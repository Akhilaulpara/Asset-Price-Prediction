{
 "cells": [
  {
   "cell_type": "code",
   "execution_count": 1,
   "id": "28dc96a3-9bc8-447d-ae50-ca198f71817d",
   "metadata": {},
   "outputs": [],
   "source": [
    "import pandas as pd\n",
    "from sqlalchemy import create_engine\n",
    "\n",
    "\n",
    "DATABASE_URL = \"sqlite:///local_data.db\"\n",
    "engine = create_engine(DATABASE_URL)\n",
    "\n",
    "\n",
    "query = \"SELECT * FROM price_data\"\n",
    "df = pd.read_sql(query, engine)\n",
    "\n",
    "\n",
    "df.to_excel(\"price_data_export.xlsx\", index=False)\n"
   ]
  },
  {
   "cell_type": "code",
   "execution_count": 2,
   "id": "44f4104c-56e7-4a8d-b5d9-a442d9c0e73c",
   "metadata": {},
   "outputs": [
    {
     "data": {
      "text/html": [
       "<a href='price_data_export.xlsx' target='_blank'>price_data_export.xlsx</a><br>"
      ],
      "text/plain": [
       "C:\\Users\\Akhila Ulpara\\Asset Price Prediction\\price_data_export.xlsx"
      ]
     },
     "execution_count": 2,
     "metadata": {},
     "output_type": "execute_result"
    }
   ],
   "source": [
    "from IPython.display import FileLink\n",
    "\n",
    "\n",
    "FileLink('price_data_export.xlsx')"
   ]
  },
  {
   "cell_type": "code",
   "execution_count": null,
   "id": "c1166fa3-0931-4a67-b1c0-6f4f5c65325d",
   "metadata": {},
   "outputs": [],
   "source": []
  }
 ],
 "metadata": {
  "kernelspec": {
   "display_name": "Python 3 (ipykernel)",
   "language": "python",
   "name": "python3"
  },
  "language_info": {
   "codemirror_mode": {
    "name": "ipython",
    "version": 3
   },
   "file_extension": ".py",
   "mimetype": "text/x-python",
   "name": "python",
   "nbconvert_exporter": "python",
   "pygments_lexer": "ipython3",
   "version": "3.10.0"
  }
 },
 "nbformat": 4,
 "nbformat_minor": 5
}
